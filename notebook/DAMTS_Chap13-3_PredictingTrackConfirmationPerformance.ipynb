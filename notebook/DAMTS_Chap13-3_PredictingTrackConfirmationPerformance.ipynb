{
 "cells": [
  {
   "cell_type": "markdown",
   "metadata": {},
   "source": [
    "# 13.3章 追跡確定能力の予測\n",
    "\n",
    "追跡システムは、最終段で確定されたトラックを表示するに至るまでに、追跡信頼度における幾つかの段階が定義できる。この時、確定されたトラックのみが運用者に表示される。ここで、誤確定トラックの生成確率を最小化することが重要である。"
   ]
  }
 ],
 "metadata": {
  "kernelspec": {
   "display_name": "Python 3",
   "language": "python",
   "name": "python3"
  },
  "language_info": {
   "codemirror_mode": {
    "name": "ipython",
    "version": 3
   },
   "file_extension": ".py",
   "mimetype": "text/x-python",
   "name": "python",
   "nbconvert_exporter": "python",
   "pygments_lexer": "ipython3",
   "version": "3.6.4"
  }
 },
 "nbformat": 4,
 "nbformat_minor": 2
}
