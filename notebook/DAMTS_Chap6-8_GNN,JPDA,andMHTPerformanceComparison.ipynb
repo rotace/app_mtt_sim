{
 "cells": [
  {
   "cell_type": "markdown",
   "metadata": {},
   "source": [
    "# 6.8 GNN, JPDA 及び MHTの性能比較\n",
    "\n",
    "　GNN、JPDA、MHTといった手法はこの数十年でしばしば提案されてきたが、その相対的な性能比較に関する研究は少ない。本章では単一目標に対して誤警報確率を変化させた場合のトラック確定性能及び管理性能についてモンテカルロ法を用いて比較する。"
   ]
  },
  {
   "cell_type": "code",
   "execution_count": 1,
   "metadata": {},
   "outputs": [],
   "source": [
    "%matplotlib notebook\n",
    "import numpy as np\n",
    "import pandas as pd\n",
    "import matplotlib.pyplot as plt\n",
    "\n",
    "pd.options.display.precision = 2"
   ]
  },
  {
   "cell_type": "code",
   "execution_count": 2,
   "metadata": {},
   "outputs": [],
   "source": [
    "data = np.array([\n",
    "    [1.e-6, np.nan, np.nan, np.nan, 0.91, 1.00, np.nan, 0.98, 1.00, np.nan],\n",
    "    [1.e-5, 0.99, np.nan, np.nan, 0.49, 0.90, np.nan, 0.86, 0.97, np.nan],\n",
    "    [3.e-5, 0.94, np.nan, np.nan, 0.16, 0.65, np.nan, 0.63, 0.94, np.nan],\n",
    "    [6.e-5, 0.80, 0.995, np.nan, 0.11, 0.36, np.nan, 0.41, 0.87, np.nan],\n",
    "    [1.e-4, 0.64, 0.98, 1.00, 0.00, 0.11, 0.92, 0.27, 0.74, 0.96],\n",
    "    [3.e-4, 0.14, 0.15, 0.98, np.nan, 0.00, 0.76, 0.11, 0.25, 0.98],\n",
    "    [6.e-4, 0.00, 0.00, np.nan, np.nan, np.nan, np.nan, 0.05, 0.13, np.nan],\n",
    "    [1.e-3, np.nan, np.nan, 0.78, np.nan, np.nan, 0.26, 0.00, 0.00, 0.64],\n",
    "])\n",
    "\n",
    "df_paper = pd.DataFrame(data)\n",
    "df_label = []\n",
    "df_label.extend(['PFA'])\n",
    "df_label.extend(['Case1 GNN', 'Case1 PDA', 'Case1 MHT'])\n",
    "df_label.extend(['Case2 GNN', 'Case2 PDA', 'Case2 MHT'])\n",
    "df_label.extend(['Case3 GNN', 'Case3 PDA', 'Case3 MHT'])\n",
    "df_paper.columns = df_label\n",
    "\n",
    "df_sim = pd.DataFrame(np.full((8,10), np.nan))\n",
    "df_sim.columns = df_label\n",
    "df_sim[\"PFA\"] = pd.Series([1.e-6, 1.e-5, 3.e-5, 6.e-5, 1.e-4, 3.e-4, 6.e-4, 1.e-3])"
   ]
  },
  {
   "cell_type": "code",
   "execution_count": 3,
   "metadata": {
    "tags": []
   },
   "outputs": [
    {
     "output_type": "stream",
     "name": "stdout",
     "text": "Wall time: 1min 37s\n"
    }
   ],
   "source": [
    "%%time\n",
    "import IRSTexample\n",
    "\n",
    "res = IRSTexample.generate_irst_example_p372(PD=0.99, PFA=1e-5, is_maneuver_enabled=True).estimate_track_statistics(n_scan=65, n_run=100)\n",
    "df_sim[\"Case1 GNN\"][1] = res[\"Nm\"][0, 10:].mean()\n",
    "\n",
    "res = IRSTexample.generate_irst_example_p372(PD=0.99, PFA=3e-5, is_maneuver_enabled=True).estimate_track_statistics(n_scan=65, n_run=100)\n",
    "df_sim[\"Case1 GNN\"][2] = res[\"Nm\"][0, 10:].mean()\n",
    "\n",
    "res = IRSTexample.generate_irst_example_p372(PD=0.99, PFA=6e-5, is_maneuver_enabled=True).estimate_track_statistics(n_scan=65, n_run=100)\n",
    "df_sim[\"Case1 GNN\"][3] = res[\"Nm\"][0, 10:].mean()\n",
    "\n",
    "res = IRSTexample.generate_irst_example_p372(PD=0.99, PFA=1e-4, is_maneuver_enabled=True).estimate_track_statistics(n_scan=65, n_run=100)\n",
    "df_sim[\"Case1 GNN\"][4] = res[\"Nm\"][0, 10:].mean()\n",
    "\n",
    "res = IRSTexample.generate_irst_example_p372(PD=0.99, PFA=3e-4, is_maneuver_enabled=True).estimate_track_statistics(n_scan=65, n_run=100)\n",
    "df_sim[\"Case1 GNN\"][5] = res[\"Nm\"][0, 10:].mean()"
   ]
  },
  {
   "cell_type": "markdown",
   "metadata": {},
   "source": [
    "トラック管理確率について、文献と本プログラムで比較検証した。  （上段：文献値、下段：計算値）  \n",
    "＊＊＊  \n",
    "＊＊＊  \n",
    "＊＊＊  "
   ]
  },
  {
   "cell_type": "code",
   "execution_count": 4,
   "metadata": {},
   "outputs": [
    {
     "output_type": "execute_result",
     "data": {
      "text/plain": "        PFA  Case1 GNN  Case1 PDA  Case1 MHT  Case2 GNN  Case2 PDA  Case2 MHT  \\\n0  1.00e-06        NaN        NaN        NaN       0.91       1.00        NaN   \n1  1.00e-05       0.99        NaN        NaN       0.49       0.90        NaN   \n2  3.00e-05       0.94        NaN        NaN       0.16       0.65        NaN   \n3  6.00e-05       0.80       0.99        NaN       0.11       0.36        NaN   \n4  1.00e-04       0.64       0.98       1.00       0.00       0.11       0.92   \n5  3.00e-04       0.14       0.15       0.98        NaN       0.00       0.76   \n6  6.00e-04       0.00       0.00        NaN        NaN        NaN        NaN   \n7  1.00e-03        NaN        NaN       0.78        NaN        NaN       0.26   \n\n   Case3 GNN  Case3 PDA  Case3 MHT  \n0       0.98       1.00        NaN  \n1       0.86       0.97        NaN  \n2       0.63       0.94        NaN  \n3       0.41       0.87        NaN  \n4       0.27       0.74       0.96  \n5       0.11       0.25       0.98  \n6       0.05       0.13        NaN  \n7       0.00       0.00       0.64  ",
      "text/html": "<div>\n<style scoped>\n    .dataframe tbody tr th:only-of-type {\n        vertical-align: middle;\n    }\n\n    .dataframe tbody tr th {\n        vertical-align: top;\n    }\n\n    .dataframe thead th {\n        text-align: right;\n    }\n</style>\n<table border=\"1\" class=\"dataframe\">\n  <thead>\n    <tr style=\"text-align: right;\">\n      <th></th>\n      <th>PFA</th>\n      <th>Case1 GNN</th>\n      <th>Case1 PDA</th>\n      <th>Case1 MHT</th>\n      <th>Case2 GNN</th>\n      <th>Case2 PDA</th>\n      <th>Case2 MHT</th>\n      <th>Case3 GNN</th>\n      <th>Case3 PDA</th>\n      <th>Case3 MHT</th>\n    </tr>\n  </thead>\n  <tbody>\n    <tr>\n      <th>0</th>\n      <td>1.00e-06</td>\n      <td>NaN</td>\n      <td>NaN</td>\n      <td>NaN</td>\n      <td>0.91</td>\n      <td>1.00</td>\n      <td>NaN</td>\n      <td>0.98</td>\n      <td>1.00</td>\n      <td>NaN</td>\n    </tr>\n    <tr>\n      <th>1</th>\n      <td>1.00e-05</td>\n      <td>0.99</td>\n      <td>NaN</td>\n      <td>NaN</td>\n      <td>0.49</td>\n      <td>0.90</td>\n      <td>NaN</td>\n      <td>0.86</td>\n      <td>0.97</td>\n      <td>NaN</td>\n    </tr>\n    <tr>\n      <th>2</th>\n      <td>3.00e-05</td>\n      <td>0.94</td>\n      <td>NaN</td>\n      <td>NaN</td>\n      <td>0.16</td>\n      <td>0.65</td>\n      <td>NaN</td>\n      <td>0.63</td>\n      <td>0.94</td>\n      <td>NaN</td>\n    </tr>\n    <tr>\n      <th>3</th>\n      <td>6.00e-05</td>\n      <td>0.80</td>\n      <td>0.99</td>\n      <td>NaN</td>\n      <td>0.11</td>\n      <td>0.36</td>\n      <td>NaN</td>\n      <td>0.41</td>\n      <td>0.87</td>\n      <td>NaN</td>\n    </tr>\n    <tr>\n      <th>4</th>\n      <td>1.00e-04</td>\n      <td>0.64</td>\n      <td>0.98</td>\n      <td>1.00</td>\n      <td>0.00</td>\n      <td>0.11</td>\n      <td>0.92</td>\n      <td>0.27</td>\n      <td>0.74</td>\n      <td>0.96</td>\n    </tr>\n    <tr>\n      <th>5</th>\n      <td>3.00e-04</td>\n      <td>0.14</td>\n      <td>0.15</td>\n      <td>0.98</td>\n      <td>NaN</td>\n      <td>0.00</td>\n      <td>0.76</td>\n      <td>0.11</td>\n      <td>0.25</td>\n      <td>0.98</td>\n    </tr>\n    <tr>\n      <th>6</th>\n      <td>6.00e-04</td>\n      <td>0.00</td>\n      <td>0.00</td>\n      <td>NaN</td>\n      <td>NaN</td>\n      <td>NaN</td>\n      <td>NaN</td>\n      <td>0.05</td>\n      <td>0.13</td>\n      <td>NaN</td>\n    </tr>\n    <tr>\n      <th>7</th>\n      <td>1.00e-03</td>\n      <td>NaN</td>\n      <td>NaN</td>\n      <td>0.78</td>\n      <td>NaN</td>\n      <td>NaN</td>\n      <td>0.26</td>\n      <td>0.00</td>\n      <td>0.00</td>\n      <td>0.64</td>\n    </tr>\n  </tbody>\n</table>\n</div>"
     },
     "metadata": {},
     "execution_count": 4
    }
   ],
   "source": [
    "df_paper"
   ]
  },
  {
   "cell_type": "code",
   "execution_count": 5,
   "metadata": {},
   "outputs": [
    {
     "output_type": "execute_result",
     "data": {
      "text/plain": "        PFA  Case1 GNN  Case1 PDA  Case1 MHT  Case2 GNN  Case2 PDA  Case2 MHT  \\\n0  1.00e-06        NaN        NaN        NaN        NaN        NaN        NaN   \n1  1.00e-05       0.97        NaN        NaN        NaN        NaN        NaN   \n2  3.00e-05       0.92        NaN        NaN        NaN        NaN        NaN   \n3  6.00e-05       0.82        NaN        NaN        NaN        NaN        NaN   \n4  1.00e-04       0.74        NaN        NaN        NaN        NaN        NaN   \n5  3.00e-04       0.16        NaN        NaN        NaN        NaN        NaN   \n6  6.00e-04        NaN        NaN        NaN        NaN        NaN        NaN   \n7  1.00e-03        NaN        NaN        NaN        NaN        NaN        NaN   \n\n   Case3 GNN  Case3 PDA  Case3 MHT  \n0        NaN        NaN        NaN  \n1        NaN        NaN        NaN  \n2        NaN        NaN        NaN  \n3        NaN        NaN        NaN  \n4        NaN        NaN        NaN  \n5        NaN        NaN        NaN  \n6        NaN        NaN        NaN  \n7        NaN        NaN        NaN  ",
      "text/html": "<div>\n<style scoped>\n    .dataframe tbody tr th:only-of-type {\n        vertical-align: middle;\n    }\n\n    .dataframe tbody tr th {\n        vertical-align: top;\n    }\n\n    .dataframe thead th {\n        text-align: right;\n    }\n</style>\n<table border=\"1\" class=\"dataframe\">\n  <thead>\n    <tr style=\"text-align: right;\">\n      <th></th>\n      <th>PFA</th>\n      <th>Case1 GNN</th>\n      <th>Case1 PDA</th>\n      <th>Case1 MHT</th>\n      <th>Case2 GNN</th>\n      <th>Case2 PDA</th>\n      <th>Case2 MHT</th>\n      <th>Case3 GNN</th>\n      <th>Case3 PDA</th>\n      <th>Case3 MHT</th>\n    </tr>\n  </thead>\n  <tbody>\n    <tr>\n      <th>0</th>\n      <td>1.00e-06</td>\n      <td>NaN</td>\n      <td>NaN</td>\n      <td>NaN</td>\n      <td>NaN</td>\n      <td>NaN</td>\n      <td>NaN</td>\n      <td>NaN</td>\n      <td>NaN</td>\n      <td>NaN</td>\n    </tr>\n    <tr>\n      <th>1</th>\n      <td>1.00e-05</td>\n      <td>0.97</td>\n      <td>NaN</td>\n      <td>NaN</td>\n      <td>NaN</td>\n      <td>NaN</td>\n      <td>NaN</td>\n      <td>NaN</td>\n      <td>NaN</td>\n      <td>NaN</td>\n    </tr>\n    <tr>\n      <th>2</th>\n      <td>3.00e-05</td>\n      <td>0.92</td>\n      <td>NaN</td>\n      <td>NaN</td>\n      <td>NaN</td>\n      <td>NaN</td>\n      <td>NaN</td>\n      <td>NaN</td>\n      <td>NaN</td>\n      <td>NaN</td>\n    </tr>\n    <tr>\n      <th>3</th>\n      <td>6.00e-05</td>\n      <td>0.82</td>\n      <td>NaN</td>\n      <td>NaN</td>\n      <td>NaN</td>\n      <td>NaN</td>\n      <td>NaN</td>\n      <td>NaN</td>\n      <td>NaN</td>\n      <td>NaN</td>\n    </tr>\n    <tr>\n      <th>4</th>\n      <td>1.00e-04</td>\n      <td>0.74</td>\n      <td>NaN</td>\n      <td>NaN</td>\n      <td>NaN</td>\n      <td>NaN</td>\n      <td>NaN</td>\n      <td>NaN</td>\n      <td>NaN</td>\n      <td>NaN</td>\n    </tr>\n    <tr>\n      <th>5</th>\n      <td>3.00e-04</td>\n      <td>0.16</td>\n      <td>NaN</td>\n      <td>NaN</td>\n      <td>NaN</td>\n      <td>NaN</td>\n      <td>NaN</td>\n      <td>NaN</td>\n      <td>NaN</td>\n      <td>NaN</td>\n    </tr>\n    <tr>\n      <th>6</th>\n      <td>6.00e-04</td>\n      <td>NaN</td>\n      <td>NaN</td>\n      <td>NaN</td>\n      <td>NaN</td>\n      <td>NaN</td>\n      <td>NaN</td>\n      <td>NaN</td>\n      <td>NaN</td>\n      <td>NaN</td>\n    </tr>\n    <tr>\n      <th>7</th>\n      <td>1.00e-03</td>\n      <td>NaN</td>\n      <td>NaN</td>\n      <td>NaN</td>\n      <td>NaN</td>\n      <td>NaN</td>\n      <td>NaN</td>\n      <td>NaN</td>\n      <td>NaN</td>\n      <td>NaN</td>\n    </tr>\n  </tbody>\n</table>\n</div>"
     },
     "metadata": {},
     "execution_count": 5
    }
   ],
   "source": [
    "df_sim"
   ]
  }
 ],
 "metadata": {
  "kernelspec": {
   "display_name": "Python 3",
   "language": "python",
   "name": "python3"
  },
  "language_info": {
   "codemirror_mode": {
    "name": "ipython",
    "version": 3
   },
   "file_extension": ".py",
   "mimetype": "text/x-python",
   "name": "python",
   "nbconvert_exporter": "python",
   "pygments_lexer": "ipython3",
   "version": "3.8.5-final"
  }
 },
 "nbformat": 4,
 "nbformat_minor": 4
}